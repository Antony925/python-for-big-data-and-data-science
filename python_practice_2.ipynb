{
  "nbformat": 4,
  "nbformat_minor": 0,
  "metadata": {
    "colab": {
      "provenance": []
    },
    "kernelspec": {
      "name": "python3",
      "display_name": "Python 3"
    },
    "language_info": {
      "name": "python"
    }
  },
  "cells": [
    {
      "cell_type": "markdown",
      "source": [
        "# I. Змінні та памʼять."
      ],
      "metadata": {
        "id": "p9wwt0LZzNvn"
      }
    },
    {
      "cell_type": "markdown",
      "source": [
        "1. Створити змінні, що посилаються на два цілих числа, що однакові за значенням, де значення належить проміжку від -5 до 256. Перевірте, чи будуть ці змінні рівні тільки за значенням або ж ще будуть посилатися на один і той самий обʼєкт в памʼяті? Наведіть код та дайте текстову відповідь нижче."
      ],
      "metadata": {
        "id": "HTJrrm95xSV9"
      }
    },
    {
      "cell_type": "code",
      "execution_count": 22,
      "metadata": {
        "id": "TATni2vzayjG",
        "colab": {
          "base_uri": "https://localhost:8080/"
        },
        "outputId": "78fccff0-0de5-4048-9568-0ad06cf707b5"
      },
      "outputs": [
        {
          "output_type": "stream",
          "name": "stdout",
          "text": [
            "True\n",
            "True\n"
          ]
        }
      ],
      "source": [
        "int1 = 32\n",
        "int2 = 32\n",
        "print(int1 == int2)\n",
        "print(int1 is int2)"
      ]
    },
    {
      "cell_type": "markdown",
      "source": [
        "Числа в діаразоні від -5 до 256 python зберігає в однакових комірках пам'яті, це зроблено задля оптимізації, бо такі значення дуже часто використовуються для вказання віку або проходження по циклу. А команда \"is\" перевіряє чи об'єкт зліва це той самий об'єкт, що і справа, а через те, що ці два об'єкта знаходяться в комірці за одним і тим самим посиланням ми отримуємо True"
      ],
      "metadata": {
        "id": "zfRG_o3WbRdg"
      }
    },
    {
      "cell_type": "markdown",
      "source": [
        "2. За допомогою якої функції можна перевірити належність змінної до вказаного типу даних (напр. чи змінна True посилається на значення булевого та цілочисленого типу)?"
      ],
      "metadata": {
        "id": "ISORzt6M3vAt"
      }
    },
    {
      "cell_type": "code",
      "source": [
        "a = 5\n",
        "logic = True\n",
        "print(isinstance(a, int))\n",
        "print(isinstance(logic, bool))\n",
        "print(isinstance(logic, int))"
      ],
      "metadata": {
        "id": "9vL9CFaMbfyo",
        "colab": {
          "base_uri": "https://localhost:8080/"
        },
        "outputId": "b0cc4f29-81b4-477b-d016-ccec6a604ee3"
      },
      "execution_count": 21,
      "outputs": [
        {
          "output_type": "stream",
          "name": "stdout",
          "text": [
            "True\n",
            "True\n",
            "True\n"
          ]
        }
      ]
    },
    {
      "cell_type": "markdown",
      "source": [
        "# II. Цілі числа та числа з рухомою комою"
      ],
      "metadata": {
        "id": "tRxugKAxwYLw"
      }
    },
    {
      "cell_type": "markdown",
      "source": [
        "3. Створити дві змінні, що посилаються на будь-які ціле число та число з рухомою комою та продемонструвати такі арифметичні операції: додавання, віднімання, ділення, множення, ділення без залишку, ділення по модулю, приведення до ступеню. Всі результати операцій вивести на екран."
      ],
      "metadata": {
        "id": "NLHkgd5Gybc8"
      }
    },
    {
      "cell_type": "code",
      "source": [
        "int1 = 100\n",
        "float2 = 53.47\n",
        "sum1 = int1 + float2\n",
        "sub1 = int1 - float2\n",
        "div1 = int1 / float2\n",
        "tim1 = int1 * float2\n",
        "div_int1 = int1 // float2\n",
        "div_mod1 = int1 % float2\n",
        "sqr1 = int1 ** float2\n",
        "\n",
        "print(f\"{sum1 = }\")\n",
        "print(f\"{sub1 = }\")\n",
        "print(f\"{div1 = }\")\n",
        "print(f\"{tim1 = }\")\n",
        "print(f\"{div_int1 = }\")\n",
        "print(f\"{div_mod1 = }\")\n",
        "print(f\"{sqr1 = }\")"
      ],
      "metadata": {
        "id": "nb8u_3pjb2cA",
        "colab": {
          "base_uri": "https://localhost:8080/"
        },
        "outputId": "85a3a43c-cade-40aa-a54a-0e76bc56a077"
      },
      "execution_count": 23,
      "outputs": [
        {
          "output_type": "stream",
          "name": "stdout",
          "text": [
            "sum1 = 153.47\n",
            "sub1 = 46.53\n",
            "div1 = 1.8702075930428277\n",
            "tim1 = 5347.0\n",
            "div_int1 = 1.0\n",
            "div_mod1 = 46.53\n",
            "sqr1 = 8.70963589956076e+106\n"
          ]
        }
      ]
    },
    {
      "cell_type": "markdown",
      "source": [
        "4. Використовуючи змінні з вправи 3, продемонструйте механізм явного перетворення типів, де числа з рухомою комою перетворюються на цілі числа. Також визначте змінну, що посилається на значення булевого типу і спробуйте явно привести її до цілого числа."
      ],
      "metadata": {
        "id": "1kBClKgPzZnC"
      }
    },
    {
      "cell_type": "code",
      "source": [
        "int_from_float = int(float2)\n",
        "float_from_int = float(int1)\n",
        "\n",
        "print(f\"{int_from_float = }\")\n",
        "print(f\"{float_from_int = }\")\n",
        "\n",
        "bool1 = True\n",
        "int_from_bool = int(bool1)\n",
        "\n",
        "print(f\"{bool1 = }\")\n",
        "print(f\"{int_from_bool = }\")"
      ],
      "metadata": {
        "id": "TbqJbkeUcKsD",
        "colab": {
          "base_uri": "https://localhost:8080/"
        },
        "outputId": "01da53e9-c95a-4883-8dbd-191ebcb5e2b2"
      },
      "execution_count": 25,
      "outputs": [
        {
          "output_type": "stream",
          "name": "stdout",
          "text": [
            "int_from_float = 53\n",
            "float_from_int = 100.0\n",
            "bool1 = True\n",
            "int_from_bool = 1\n"
          ]
        }
      ]
    },
    {
      "cell_type": "markdown",
      "source": [
        "# IІІ. Рядки (String)."
      ],
      "metadata": {
        "id": "EVJ7AflwxrZi"
      }
    },
    {
      "cell_type": "markdown",
      "source": [
        "5. Створити пустий рядок двома різними способами."
      ],
      "metadata": {
        "id": "_s5ECzz9zE61"
      }
    },
    {
      "cell_type": "code",
      "source": [
        "empty_str1 = str()\n",
        "empty_str2 = 0 * \"Hello\"\n",
        "print(empty_str1)\n",
        "print(empty_str2)"
      ],
      "metadata": {
        "id": "fkZJHu9Scvc-",
        "colab": {
          "base_uri": "https://localhost:8080/"
        },
        "outputId": "7420dd71-62e0-41ad-a4d1-d736a01ca513"
      },
      "execution_count": 30,
      "outputs": [
        {
          "output_type": "stream",
          "name": "stdout",
          "text": [
            "\n",
            "\n"
          ]
        }
      ]
    },
    {
      "cell_type": "markdown",
      "source": [
        "6. Створити рядок з апострофом. Зробити його сирим. Вивести обидва рядка на екран."
      ],
      "metadata": {
        "id": "4Bdn9J3MzLf_"
      }
    },
    {
      "cell_type": "code",
      "source": [
        "str_with_apost = \"I'm learning Python\"\n",
        "raw_str_with_apost = r\"I'm learning Python\"\n",
        "\n",
        "print(\"Str:\", str_with_apost)\n",
        "print(\"Row str:\", raw_str_with_apost)"
      ],
      "metadata": {
        "id": "ivji_hsmc0GH",
        "colab": {
          "base_uri": "https://localhost:8080/"
        },
        "outputId": "c7a1e546-32c2-44c1-e7e4-64f1151b342d"
      },
      "execution_count": 32,
      "outputs": [
        {
          "output_type": "stream",
          "name": "stdout",
          "text": [
            "Str: I'm learning Python\n",
            "Row str: I'm learning Python\n"
          ]
        }
      ]
    },
    {
      "cell_type": "markdown",
      "source": [
        "7. Створити змінну, що буде посилатися на Ваше прізвище латинкою. Створити форматований рядок, який буде мати вигляд \"My surname is ______\", де на місці нижніх підкреслень буде Ваше прізвище зі змінної."
      ],
      "metadata": {
        "id": "bg_d8wM4z8dS"
      }
    },
    {
      "cell_type": "code",
      "source": [
        "my_surname = \"Morhun\"\n",
        "formated_str = f\"My surname is {my_surname}\"\n",
        "print(formated_str)"
      ],
      "metadata": {
        "id": "kuxFgpWndACq",
        "colab": {
          "base_uri": "https://localhost:8080/"
        },
        "outputId": "a3238ca8-fac2-4787-8655-da4d6fc24b18"
      },
      "execution_count": 35,
      "outputs": [
        {
          "output_type": "stream",
          "name": "stdout",
          "text": [
            "My surname is Morhun\n"
          ]
        }
      ]
    },
    {
      "cell_type": "markdown",
      "source": [
        "8. Маючи рядок \"My dog is crazy.\" перетворити його на список [\"my\", \"dog\", \"is\", \"crazy\"]"
      ],
      "metadata": {
        "id": "1Nc6RqvQ0hxU"
      }
    },
    {
      "cell_type": "code",
      "source": [
        "dog_str = \"My dog is crazy.\"\n",
        "my_list = dog_str.lower().strip(\".\").split()\n",
        "print(my_list)"
      ],
      "metadata": {
        "id": "w1Ya4RqedUhw",
        "colab": {
          "base_uri": "https://localhost:8080/"
        },
        "outputId": "bdaf4157-da71-41f9-948c-68d79630914a"
      },
      "execution_count": 38,
      "outputs": [
        {
          "output_type": "stream",
          "name": "stdout",
          "text": [
            "['my', 'dog', 'is', 'crazy']\n"
          ]
        }
      ]
    },
    {
      "cell_type": "markdown",
      "source": [
        "# IV. Робота зі списками."
      ],
      "metadata": {
        "id": "GYVqN9uP1D4n"
      }
    },
    {
      "cell_type": "markdown",
      "source": [
        "9. Створити список двома різними за синтаксисом способами. За допомогою вбудованої функції обчисліть довжину одного з них."
      ],
      "metadata": {
        "id": "7-DeDunw2sO-"
      }
    },
    {
      "cell_type": "code",
      "source": [
        "my_list1 = list(dog_str)\n",
        "my_list2 = [1, 2, 3] + [5]\n",
        "print(my_list1)\n",
        "print(my_list2)\n",
        "print(\"Length of my_list1 = \", len(my_list1))"
      ],
      "metadata": {
        "id": "zxg06Uuxdyoh",
        "colab": {
          "base_uri": "https://localhost:8080/"
        },
        "outputId": "9138561d-6042-4ae1-8fac-b9afb13fdef1"
      },
      "execution_count": 45,
      "outputs": [
        {
          "output_type": "stream",
          "name": "stdout",
          "text": [
            "['M', 'y', ' ', 'd', 'o', 'g', ' ', 'i', 's', ' ', 'c', 'r', 'a', 'z', 'y', '.']\n",
            "[1, 2, 3, 5]\n",
            "Length of my_list1 =  16\n"
          ]
        }
      ]
    },
    {
      "cell_type": "markdown",
      "source": [
        "10. Створіть два списка та за допомогою спеціального методу додайте другий з них в якості останнього елемента першого."
      ],
      "metadata": {
        "id": "8vmGUTjL22gI"
      }
    },
    {
      "cell_type": "code",
      "source": [
        "my_list1 = [1, 2, 3]\n",
        "my_list2 = [4, 5, 6]\n",
        "my_list1.append(my_list2)\n",
        "print(my_list1)"
      ],
      "metadata": {
        "id": "uHtjWYw7d7hm",
        "colab": {
          "base_uri": "https://localhost:8080/"
        },
        "outputId": "83ef4371-c6dd-460c-c1b1-475948d1a468"
      },
      "execution_count": 47,
      "outputs": [
        {
          "output_type": "stream",
          "name": "stdout",
          "text": [
            "[1, 2, 3, [4, 5, 6]]\n"
          ]
        }
      ]
    },
    {
      "cell_type": "markdown",
      "source": [
        "11. Створіть список, де елементами цього списку також є списки. Отримай перший елемент з останнього рядка та виведи значення на екран."
      ],
      "metadata": {
        "id": "JC3BkD-67_--"
      }
    },
    {
      "cell_type": "code",
      "source": [
        "list_of_lists = [[1, 2, 3], [4, 5, 6], [7, 8, 9]]\n",
        "first_element_of_last_list = list_of_lists[-1][0]\n",
        "\n",
        "print(first_element_of_last_list)"
      ],
      "metadata": {
        "id": "Kz2jZHsGeLlz",
        "colab": {
          "base_uri": "https://localhost:8080/"
        },
        "outputId": "ddfde3e5-157b-45a7-ce5e-52b7f84ca321"
      },
      "execution_count": 49,
      "outputs": [
        {
          "output_type": "stream",
          "name": "stdout",
          "text": [
            "7\n"
          ]
        }
      ]
    },
    {
      "cell_type": "markdown",
      "source": [
        "12. Створіть список з десяти елементів різного типу. Отримайте всі елементи, окрім двох перших та двох останніх та збережіть їх в новій змінній."
      ],
      "metadata": {
        "id": "JA47PKTv8zFK"
      }
    },
    {
      "cell_type": "code",
      "source": [
        "my_list3 = [True, 2.2, \"3\", 4, [4, 5], {6: \"rr\", 5: 3}, None, 'Hello!', 99, 10]\n",
        "new_list = my_list3[2:-2]\n",
        "\n",
        "print(new_list)"
      ],
      "metadata": {
        "id": "_rHdUR-ueP4-",
        "colab": {
          "base_uri": "https://localhost:8080/"
        },
        "outputId": "595215d9-b688-4f00-d615-c63ca9f23695"
      },
      "execution_count": 52,
      "outputs": [
        {
          "output_type": "stream",
          "name": "stdout",
          "text": [
            "['3', 4, [4, 5], {6: 'rr', 5: 3}, None, 'Hello!']\n"
          ]
        }
      ]
    },
    {
      "cell_type": "markdown",
      "source": [
        "# V. Робота з кортежами."
      ],
      "metadata": {
        "id": "pCjR1dJb1Qbi"
      }
    },
    {
      "cell_type": "markdown",
      "source": [
        "14. Створити кортеж з один елементом."
      ],
      "metadata": {
        "id": "fAZCxAX06R_k"
      }
    },
    {
      "cell_type": "code",
      "source": [
        "my_tuple = (1,)\n",
        "print(my_tuple)"
      ],
      "metadata": {
        "id": "H7d82WkQev3e",
        "colab": {
          "base_uri": "https://localhost:8080/"
        },
        "outputId": "91d06397-9b82-4283-9029-f8dc9d86f958"
      },
      "execution_count": 51,
      "outputs": [
        {
          "output_type": "stream",
          "name": "stdout",
          "text": [
            "(1,)\n"
          ]
        }
      ]
    },
    {
      "cell_type": "markdown",
      "source": [
        "15. Порівняйте список та кортеж. Назвіть схожості та відмінності, випадки використання."
      ],
      "metadata": {
        "id": "8LCtYcmI6w1M"
      }
    },
    {
      "cell_type": "markdown",
      "source": [
        "Список і кортеж мають свої відмінності та схожості:\n",
        "І список, і кортеж можуть містити в собі різноманітні елементи за типом, наявність індексації та можливість ітерування.\n",
        "\n",
        "Відмінності:\n",
        "Списки є змінним типом даних, а кортеж створюється один раз і більше його неможна змінити. Також кортежі швидші за списки."
      ],
      "metadata": {
        "id": "fUsN1Hnue0C6"
      }
    },
    {
      "cell_type": "markdown",
      "source": [
        "16. Створіть кортеж з 11ти елементів чисел з рухомою комою та отримайте кожен парний за індексом елемент в зворотньому порядку. Наприклад, маючи (1.2, 2.3, 3.3, 4.3, 5.3, 6.3, 7.3, 8.3, 9.3, 0.3), отримати (0.3, 8.3, 6.3, 4.3, 2.3). Результат збережіть в нову змінну та виведіть на екран."
      ],
      "metadata": {
        "id": "m0xrwFijAmDD"
      }
    },
    {
      "cell_type": "code",
      "source": [
        "my_tuple2 = (0, 1, 2, 3, 4, 5, 6, 7, 8, 9, 10)\n",
        "new_tuple = my_tuple2[-2::-2]\n",
        "print(new_tuple)"
      ],
      "metadata": {
        "id": "p-5DAH6XfAGA",
        "colab": {
          "base_uri": "https://localhost:8080/"
        },
        "outputId": "398cfa2f-dc9a-4267-d2c5-f696e4de7081"
      },
      "execution_count": 63,
      "outputs": [
        {
          "output_type": "stream",
          "name": "stdout",
          "text": [
            "(9, 7, 5, 3, 1)\n"
          ]
        }
      ]
    },
    {
      "cell_type": "markdown",
      "source": [
        "# VI. Множини (Set)."
      ],
      "metadata": {
        "id": "rW_I9dt3x6cW"
      }
    },
    {
      "cell_type": "markdown",
      "source": [
        "17. Створити множину без елементів. Після цого за допомогою методу додайте кілька різних елементів до множини. Чи множини є змінним типом даних?"
      ],
      "metadata": {
        "id": "zNjRLHLw1Bgg"
      }
    },
    {
      "cell_type": "code",
      "source": [
        "my_set = set()\n",
        "my_set.add(5)\n",
        "my_set.add(\"Hello world!\")\n",
        "print(my_set)"
      ],
      "metadata": {
        "id": "KOv7zc2Kfo4N",
        "colab": {
          "base_uri": "https://localhost:8080/"
        },
        "outputId": "1b533cad-23a7-4bf4-eb3e-ce87bb42b8d4"
      },
      "execution_count": 66,
      "outputs": [
        {
          "output_type": "stream",
          "name": "stdout",
          "text": [
            "{'Hello world!', 5}\n"
          ]
        }
      ]
    },
    {
      "cell_type": "markdown",
      "source": [
        "Так, множини є змінним типом даних, ми можемо додавати і видаляти елементи, але порядок елементів не гарантується, як в списках, до того ж в множинах елементи не можуть повторюватись"
      ],
      "metadata": {
        "id": "vxS6dVYiftZQ"
      }
    },
    {
      "cell_type": "markdown",
      "source": [
        "18. Створити множину, маючи список my_list = [1, 1, 2, 67, 67, 8, 9]. Пояснити, чому \"зникли\" деякі елементи."
      ],
      "metadata": {
        "id": "gHpT0Zw_1HEF"
      }
    },
    {
      "cell_type": "code",
      "source": [
        "my_list = [1, 1, 2, 67, 67, 8, 9]\n",
        "my_set = set(my_list)\n",
        "\n",
        "print(my_set)"
      ],
      "metadata": {
        "id": "qCN4uvJ_fxmu",
        "colab": {
          "base_uri": "https://localhost:8080/"
        },
        "outputId": "89cd2eab-e2cb-4b05-af59-0bf7195f56a0"
      },
      "execution_count": 68,
      "outputs": [
        {
          "output_type": "stream",
          "name": "stdout",
          "text": [
            "{1, 2, 67, 8, 9}\n",
            "в множинах елементи не можуть повторюватись!\n"
          ]
        }
      ]
    },
    {
      "cell_type": "markdown",
      "source": [
        "В множинах елементи не можуть повторюватись, всі дублікати автоматично видаляються"
      ],
      "metadata": {
        "id": "tFNc1e20fyny"
      }
    },
    {
      "cell_type": "markdown",
      "source": [
        "19. Створіть дві множини. Продемонстуйте над ними операції: обʼєднання, різниці, пересічі та симетричної різниці. Використовуйте методи, що не змінюють множини, а створюють нові."
      ],
      "metadata": {
        "id": "SRMkGizS1UwY"
      }
    },
    {
      "cell_type": "code",
      "source": [
        "set1 = {1, 2, 3, 4, 5, 6}\n",
        "set2 = {4, 5, 6, 7, 8, 9}\n",
        "\n",
        "union_result = set1.union(set2)\n",
        "print(\"Union:\", union_result)\n",
        "\n",
        "difference_result = set1.difference(set2)\n",
        "print(\"Difference:\", difference_result)\n",
        "\n",
        "intersection_result = set1.intersection(set2)\n",
        "print(\"Intersection:\", intersection_result)\n",
        "\n",
        "symmetric_difference_result = set1.symmetric_difference(set2)\n",
        "print(\"Symmetric_difference:\", symmetric_difference_result)"
      ],
      "metadata": {
        "id": "h0T-VuDnf3Ri",
        "colab": {
          "base_uri": "https://localhost:8080/"
        },
        "outputId": "ba8f09ae-b28e-425d-9856-ff6f808d4cc4"
      },
      "execution_count": 72,
      "outputs": [
        {
          "output_type": "stream",
          "name": "stdout",
          "text": [
            "Union: {1, 2, 3, 4, 5, 6, 7, 8, 9}\n",
            "Difference: {1, 2, 3}\n",
            "Intersection: {4, 5, 6}\n",
            "Symmetric_difference: {1, 2, 3, 7, 8, 9}\n"
          ]
        }
      ]
    },
    {
      "cell_type": "markdown",
      "source": [
        "# VII. Словники (Dictionary)."
      ],
      "metadata": {
        "id": "kWc8gkzTx7Ea"
      }
    },
    {
      "cell_type": "markdown",
      "source": [
        "20. Створіть пустий словник. До нього додайте чотири пари елементів такі, щоб їхні ключі були різних типів. Чи може список бути ключем? Чому?"
      ],
      "metadata": {
        "id": "i5FLwj-B2ybQ"
      }
    },
    {
      "cell_type": "code",
      "source": [
        "my_dict = {}\n",
        "\n",
        "my_dict[1] = \"Integer\"\n",
        "my_dict[\"name\"] = \"Anton\"\n",
        "my_dict[(1, 2)] = \"Tuple\"\n",
        "my_dict[53.47] = \"Float\"\n",
        "\n",
        "print(my_dict)"
      ],
      "metadata": {
        "id": "hxgv3BzrgLAV",
        "colab": {
          "base_uri": "https://localhost:8080/"
        },
        "outputId": "0da144c2-7114-4c07-9b54-d53bf78fc207"
      },
      "execution_count": 73,
      "outputs": [
        {
          "output_type": "stream",
          "name": "stdout",
          "text": [
            "{1: 'Integer', 'name': 'Anton', (1, 2): 'Tuple', 53.47: 'Float'}\n"
          ]
        }
      ]
    },
    {
      "cell_type": "markdown",
      "source": [
        "Ключем словника можуть бути тільки немутабельні типи даних, які мають сталу адресу комірки пам'яті, де вони зберігаються і до яких можна застосовувати хеш-функції"
      ],
      "metadata": {
        "id": "zwa7UVN-gR3m"
      }
    },
    {
      "cell_type": "markdown",
      "source": [
        "21. Створіть словник, де значенням в одній з пар теж буде словник, який теж має вкладений словник. Виведіть на екран значення, що міститься в словнику, що знаходиться на найнижчому рівні ієрархії вкладеності (найбільш внутрішній)."
      ],
      "metadata": {
        "id": "WM_pMlJsgoNf"
      }
    },
    {
      "cell_type": "code",
      "source": [
        "my_dict = {\"pi\":3.14,\"student\":\n",
        "                              {\"age\": 19,\"name\": \"Anton\",\"address\":\n",
        "                                                                  {\"country\": \"Ukraine\",\"city\": \"Kiev\",\"street\": \"Shevchenko 5\"}}}\n",
        "\n",
        "inside_value = my_dict[\"student\"][\"address\"][\"street\"]\n",
        "print(inside_value)"
      ],
      "metadata": {
        "id": "60dlP7IHhAy4",
        "colab": {
          "base_uri": "https://localhost:8080/"
        },
        "outputId": "8b47ae87-d449-4fcf-cb94-b562a60b304d"
      },
      "execution_count": 76,
      "outputs": [
        {
          "output_type": "stream",
          "name": "stdout",
          "text": [
            "Shevchenko 5\n"
          ]
        }
      ]
    },
    {
      "cell_type": "markdown",
      "source": [
        "# Вітаю! Ви велика(ий) молодець, що впоралась(вся). Похваліть себе та побалуйте чимось приємним. Я Вами пишаюся."
      ],
      "metadata": {
        "id": "xOZP0hkx6cCr"
      }
    }
  ]
}
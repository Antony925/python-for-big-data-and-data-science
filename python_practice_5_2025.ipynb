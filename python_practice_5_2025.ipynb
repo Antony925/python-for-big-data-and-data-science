{
  "nbformat": 4,
  "nbformat_minor": 0,
  "metadata": {
    "colab": {
      "provenance": []
    },
    "kernelspec": {
      "name": "python3",
      "display_name": "Python 3"
    },
    "language_info": {
      "name": "python"
    }
  },
  "cells": [
    {
      "cell_type": "markdown",
      "source": [
        "# I. OOP"
      ],
      "metadata": {
        "id": "5qV_sehzFCTp"
      }
    },
    {
      "cell_type": "markdown",
      "source": [
        "1. (6б). Створіть клас Building, додайте три атрибути, один з яких має значення за замовчуванням та два методи на свій розсуд."
      ],
      "metadata": {
        "id": "tx_U_hOALyfg"
      }
    },
    {
      "cell_type": "code",
      "source": [
        "class Building:\n",
        "    def __init__(self, floors, color, height = 1):\n",
        "        self.color = color\n",
        "        self.floors = floors\n",
        "        self.height = height\n",
        "\n",
        "    def print_building_info(self):\n",
        "        print(f\"Building's height is {self.height}, has {self.floors} floors and painted in {self.color} color.\")\n",
        "\n",
        "    def height_updating(self, changed_height):\n",
        "        self.height = changed_height\n",
        "        print(f\"Building's height changed to {self.height}!\")"
      ],
      "metadata": {
        "id": "-Vf895KaL88N"
      },
      "execution_count": 10,
      "outputs": []
    },
    {
      "cell_type": "markdown",
      "source": [
        "2. (2б). Створіть два обʼєкти цього класу, де один з обʼєктів створюється із дефолтним значенням атрибуту. На одному обʼєкті отримайте значення його атрибуту, а на іншому викличте один з його методів."
      ],
      "metadata": {
        "id": "X_UlOMB0L93w"
      }
    },
    {
      "cell_type": "code",
      "source": [
        "building1 = Building(floors = 5, color = \"gray\")\n",
        "building2 = Building(floors = 5, color = \"gray\", height = 7)\n",
        "\n",
        "print(building1.color)\n",
        "building2.print_building_info()"
      ],
      "metadata": {
        "id": "7gBu0ESOMCpG",
        "colab": {
          "base_uri": "https://localhost:8080/"
        },
        "outputId": "c152af5a-6f06-4f07-da60-aaa3d1f99ff3"
      },
      "execution_count": 11,
      "outputs": [
        {
          "output_type": "stream",
          "name": "stdout",
          "text": [
            "gray\n",
            "Building's height is 7, has 5 floors and painted in gray color.\n"
          ]
        }
      ]
    },
    {
      "cell_type": "markdown",
      "source": [
        "3. (5б). Створіть клас, де атрибути мають різні рівні доступу. Спробуйте отримати їхні значення та опишіть результати."
      ],
      "metadata": {
        "id": "HoqSCZt1MHn5"
      }
    },
    {
      "cell_type": "code",
      "source": [
        "class Student:\n",
        "    def __init__(self, name, age, grade, student_id):\n",
        "        self.name = name         #public\n",
        "        self.age = age           #public\n",
        "        self._grade = grade      #protected\n",
        "        self.__id = student_id   #private\n",
        "\n",
        "    def get_student_info(self):\n",
        "        print(f\"Student's Name: {self.name}; Age: {self.age}; Grade: {self._grade}\")\n",
        "\n",
        "    def update_grade(self, changed_grade):\n",
        "        self._grade = changed_grade\n",
        "        print(f\"{self.name}'s grade was changed to {self._grade}\")\n",
        "\n",
        "    def get_id(self):\n",
        "        return self.__id\n",
        "\n",
        "student1 = Student(\"Anton\", 19, \"B\", 190920962020660)\n",
        "\n",
        "student1.get_student_info()\n",
        "student1.update_grade(\"A\")\n",
        "student1.get_student_info()\n",
        "\n",
        "# print(f\"Student ID: {student1.__id()}\")  ->  will return AttributeError\n",
        "print(f\"Student ID: {student1.get_id()}\")\n",
        "\n",
        "print(\"\\nTrying to change student's id:\")\n",
        "student1.__id = 55950595\n",
        "print(\"Changed id is\", student1.__id)\n",
        "print(f\"But, real Student ID was saved: {student1.get_id()}\")   # real id is saved from any changes"
      ],
      "metadata": {
        "id": "r9b3vJxBMSPV",
        "colab": {
          "base_uri": "https://localhost:8080/"
        },
        "outputId": "fffef43f-967c-42c8-e8ea-d78566d518bd"
      },
      "execution_count": 25,
      "outputs": [
        {
          "output_type": "stream",
          "name": "stdout",
          "text": [
            "Student's Name: Anton; Age: 19; Grade: B\n",
            "Anton's grade was changed to A\n",
            "Student's Name: Anton; Age: 19; Grade: A\n",
            "Student ID: 190920962020660\n",
            "\n",
            "Trying to change student's id:\n",
            "Changed id is 55950595\n",
            "But, real Student ID was saved: 190920962020660\n"
          ]
        }
      ]
    },
    {
      "cell_type": "markdown",
      "source": [
        "4. (7б). Як ви розумієте термін self? Для чого використовується метод __init __?"
      ],
      "metadata": {
        "id": "5op2m2vgMSkZ"
      }
    },
    {
      "cell_type": "markdown",
      "source": [
        "1. self в пайтоні - це посилання на екземпляр класу (на об'єкт з яким пайтон працює в ПОТОЧНИЙ час), який дає нам доступ до атрибутів і методів цього об'єкту.\n",
        "2. А метод __init __ це коструктор класу, який викликається під час кожного нового створення об'єкту класу та ініціалізує його атрибути."
      ],
      "metadata": {
        "id": "DyiPqNRvMasx"
      }
    },
    {
      "cell_type": "markdown",
      "source": [
        "5. (9б). Створіть клас 3D-фігура без атрибутів, з методом get_volume для отримання об'єму фігури, що повертає 0 та __add __, який приймає self та other в якості аргументів, а повертає суму об'ємів 3d-фігур self та other."
      ],
      "metadata": {
        "id": "-6X8EGfjMd2y"
      }
    },
    {
      "cell_type": "code",
      "source": [
        "class ThreeDFigure:\n",
        "    def get_volume(self):\n",
        "        return 0\n",
        "\n",
        "    def __add__(self, other):\n",
        "        if isinstance(other, ThreeDFigure):\n",
        "            return self.get_volume() + other.get_volume()\n",
        "        else:\n",
        "            return(\"You have to add only 3D figures\")\n",
        "\n",
        "\n",
        "fig1 = ThreeDFigure()\n",
        "fig2 = ThreeDFigure()\n",
        "\n",
        "# print(fig1 + 5)  ->   You have to add only 3D figures\n",
        "print(fig1 + fig2)"
      ],
      "metadata": {
        "id": "4rvO_wYUMaEr",
        "colab": {
          "base_uri": "https://localhost:8080/"
        },
        "outputId": "b588869a-023b-45cf-d2f8-71a98f0f3154"
      },
      "execution_count": 30,
      "outputs": [
        {
          "output_type": "stream",
          "name": "stdout",
          "text": [
            "0\n"
          ]
        }
      ]
    },
    {
      "cell_type": "markdown",
      "source": [
        "6. (11б). Створіть 2 дочірніх класи від 3d-фігура: Циліндр та Куб, які мають атрибути, необхідні для розрахунку об'єму. Визначте метод get_volume в кожному з них так, щоби вони розраховували об'єм у залежності від формули для кожного типу фігури. Створіть обʼєкт класу Циліндр та обʼєкт класу Куб. Виконайте операцію суми за допомогою оператора + між ними, аби знайти сумарний об'єм."
      ],
      "metadata": {
        "id": "SFcKnnv5Mo_z"
      }
    },
    {
      "cell_type": "code",
      "source": [
        "from math import pi as PI\n",
        "\n",
        "class Cylinder(ThreeDFigure):\n",
        "    def __init__(self, radius, height):\n",
        "        self.radius = radius\n",
        "        self.height = height\n",
        "\n",
        "    def get_volume(self):\n",
        "        return (PI * self.radius ** 2) * self.height\n",
        "\n",
        "class Cube(ThreeDFigure):\n",
        "    def __init__(self, side):\n",
        "        self.side = side\n",
        "\n",
        "    def get_volume(self):\n",
        "        return self.side ** 3\n",
        "\n",
        "cylinder1 = Cylinder(2, 7)\n",
        "cube1 = Cube(2)\n",
        "\n",
        "print(cylinder1 + cube1)"
      ],
      "metadata": {
        "id": "H3GVNr69Muf3",
        "colab": {
          "base_uri": "https://localhost:8080/"
        },
        "outputId": "d2854538-9310-4842-c1c0-990e109c2544"
      },
      "execution_count": 39,
      "outputs": [
        {
          "output_type": "stream",
          "name": "stdout",
          "text": [
            "95.96459430051421\n"
          ]
        }
      ]
    },
    {
      "cell_type": "markdown",
      "source": [
        "7. (3б). Продемонструйте різницю між isinstance та issubclass."
      ],
      "metadata": {
        "id": "HCvR206YMvLK"
      }
    },
    {
      "cell_type": "code",
      "source": [
        "print(\"isinstance:\")\n",
        "print(isinstance(cylinder1, Cylinder))      # True  5 -> int\n",
        "print(isinstance(cylinder1, ThreeDFigure))  # True  5 -> object\n",
        "print(isinstance(cylinder1, Cube))          # False 5 !-> str\n",
        "print(\"\\nissubclass:\")\n",
        "print(issubclass(Cylinder, ThreeDFigure))   # True int -> object\n",
        "print(issubclass(Cube, ThreeDFigure))       # True str -> object\n",
        "print(issubclass(Cylinder, Cube))           # False int !-> str"
      ],
      "metadata": {
        "id": "L_V1bBvDM0GN",
        "colab": {
          "base_uri": "https://localhost:8080/"
        },
        "outputId": "377bdd78-6e9c-4f28-b7a2-93c0fbb810fd"
      },
      "execution_count": 54,
      "outputs": [
        {
          "output_type": "stream",
          "name": "stdout",
          "text": [
            "isinstance:\n",
            "True\n",
            "True\n",
            "False\n",
            "\n",
            "issubclass:\n",
            "True\n",
            "True\n",
            "False\n"
          ]
        }
      ]
    },
    {
      "cell_type": "markdown",
      "source": [
        "8. (13б). Створіть клас EWallet з приватними атрибутами balance та id. Реалізуйте методи поповнення та зняття коштів, забезпечивши належну інкапсуляцію. Підказка: використовуйте декоратори property та setter."
      ],
      "metadata": {
        "id": "jjsaBZ-iM0Qq"
      }
    },
    {
      "cell_type": "code",
      "source": [
        "class EWallet:\n",
        "    def __init__(self, id, balance=0):\n",
        "        self.__id = id\n",
        "        self.__balance = balance\n",
        "\n",
        "    @property\n",
        "    def balance(self):\n",
        "        return self.__balance\n",
        "\n",
        "    @balance.setter\n",
        "    def balance(self, amount):\n",
        "        if amount < 0:\n",
        "            raise ValueError(\"Balance cannot be negative.\")\n",
        "        self.__balance = amount\n",
        "\n",
        "    def income(self, amount):\n",
        "        if amount > 0:\n",
        "            self.__balance += amount\n",
        "            print(f\"You got +{amount} to your balance. \\nNew balance is: {self.__balance} \\n\")\n",
        "        else:\n",
        "            print(\"Income amount must be positive!\")\n",
        "\n",
        "    def outcome(self, amount):\n",
        "        if 0 < amount <= self.__balance:\n",
        "            self.__balance -= amount\n",
        "            print(f\"You paid -{amount} from your balance. \\nNew balance is: {self.__balance} \\n\")\n",
        "        elif 0 > amount:\n",
        "            print(\"Outcome amount must be positive! \\n\")\n",
        "        else:\n",
        "            print(\"You don't have money to do this withdraw! \\n\")\n",
        "\n",
        "\n",
        "wallet = EWallet(\"19595504972\", 100)\n",
        "print(wallet.balance)\n",
        "wallet.income(50)\n",
        "wallet.outcome(-30)\n",
        "wallet.outcome(230)\n",
        "wallet.outcome(30)"
      ],
      "metadata": {
        "id": "xCvZ7lh8M7YA",
        "colab": {
          "base_uri": "https://localhost:8080/"
        },
        "outputId": "c2dd63f0-8e9a-450c-a130-0357fa8c8a6e"
      },
      "execution_count": 64,
      "outputs": [
        {
          "output_type": "stream",
          "name": "stdout",
          "text": [
            "100\n",
            "You got +50 to your balance. \n",
            "New balance is: 150 \n",
            "\n",
            "Outcome amount must be positive! \n",
            "\n",
            "You don't have money to do this withdraw! \n",
            "\n",
            "You paid -30 from your balance. \n",
            "New balance is: 120 \n",
            "\n"
          ]
        }
      ]
    },
    {
      "cell_type": "markdown",
      "source": [
        "9. (11б). Створіть клас ShoppingCart, який містить список об'єктів типу Item. Реалізуйте методи для додавання айтемів, їх видалення та відображення списку айтемів."
      ],
      "metadata": {
        "id": "tIzL2SJTM8ft"
      }
    },
    {
      "cell_type": "code",
      "source": [
        "class ShoppingCart:\n",
        "    def __init__(self):\n",
        "        self.items = []\n",
        "\n",
        "    def add_item(self, item):\n",
        "        self.items.append(item)\n",
        "        print(f\"+ {item.name} added to your cart.\")\n",
        "\n",
        "    def remove_item(self, item_name):\n",
        "        for item in self.items:\n",
        "            if item.name == item_name:\n",
        "                self.items.remove(item)\n",
        "                print(f\"- {item.name} removed from your cart.\")\n",
        "                return\n",
        "        print(\"Item not found in your cart!\")\n",
        "\n",
        "    def show_items(self):\n",
        "        if not self.items:\n",
        "            print(\"Your shopping cart is empty!\")\n",
        "        else:\n",
        "            print(\"Your shopping cart:\")\n",
        "            for item in self.items:\n",
        "                print(f\"{item}\")\n",
        "\n",
        "\n",
        "class Item:\n",
        "    def __init__(self, name, price):\n",
        "        self.name = name\n",
        "        self.price = price\n",
        "\n",
        "    def __str__(self):\n",
        "        return f\"{self.name}: {self.price}\"\n",
        "\n",
        "\n",
        "cart = ShoppingCart()\n",
        "item1 = Item(\"Apple\", 99.99)\n",
        "item2 = Item(\"Cucumber\", 159.99)\n",
        "\n",
        "cart.add_item(item1)\n",
        "cart.add_item(item2)\n",
        "cart.show_items()\n",
        "cart.remove_item(\"Apple\")\n",
        "cart.show_items()"
      ],
      "metadata": {
        "id": "HWxfJKLtNAUZ",
        "colab": {
          "base_uri": "https://localhost:8080/"
        },
        "outputId": "e1f5ad7e-31d7-49be-a281-e93d7e801610"
      },
      "execution_count": 70,
      "outputs": [
        {
          "output_type": "stream",
          "name": "stdout",
          "text": [
            "+ Apple added to your cart.\n",
            "+ Cucumber added to your cart.\n",
            "Your shopping cart:\n",
            "Apple: 99.99\n",
            "Cucumber: 159.99\n",
            "- Apple removed from your cart.\n",
            "Your shopping cart:\n",
            "Cucumber: 159.99\n"
          ]
        }
      ]
    },
    {
      "cell_type": "markdown",
      "source": [
        "10. (13б). Створіть клас Vehicle з атрибутами brand (manufacturer) та production_age. Створіть ще один клас Engine з такими атрибутами, як type (ex. petrol) та size (volume, litres). Створіть клас Car, який успадковує обидва класи Vehicle та Engine. Продемонструйте використання множинної спадковості, створивши обʼєкт класу Car та отримавши mro для цього класу."
      ],
      "metadata": {
        "id": "lmV8pAwwNIqu"
      }
    },
    {
      "cell_type": "code",
      "source": [
        "class Vehicle:\n",
        "    def __init__(self, brand, production_age):\n",
        "        self.brand = brand\n",
        "        self.production_age = production_age\n",
        "\n",
        "class Engine:\n",
        "    def __init__(self, type, size):\n",
        "        self.type = type\n",
        "        self.size = size\n",
        "\n",
        "class Car(Vehicle, Engine):\n",
        "    def __init__(self, brand, production_age, type, size):\n",
        "        Vehicle.__init__(self, brand, production_age)\n",
        "        Engine.__init__(self, type, size)\n",
        "\n",
        "    def show_car_info(self):\n",
        "        print(f\"Car brand: {self.brand}; Production age: {self.production_age}\")\n",
        "        print(f\"Engine type: {self.type}; Engine size: {self.size}\")\n",
        "\n",
        "\n",
        "\n",
        "car1 = Car(\"McLaren\", 7, \"petrol\", 3.9)\n",
        "car1.show_car_info()\n",
        "\n",
        "print(Car.mro()) # виходить ромбикове наслідування"
      ],
      "metadata": {
        "id": "R49grKlWNPeN",
        "colab": {
          "base_uri": "https://localhost:8080/"
        },
        "outputId": "e876ff09-2181-4e16-bd37-54607e133650"
      },
      "execution_count": 74,
      "outputs": [
        {
          "output_type": "stream",
          "name": "stdout",
          "text": [
            "Car brand: McLaren; Production age: 7\n",
            "Engine type: petrol; Engine size: 3.9\n",
            "[<class '__main__.Car'>, <class '__main__.Vehicle'>, <class '__main__.Engine'>, <class 'object'>]\n"
          ]
        }
      ]
    },
    {
      "cell_type": "markdown",
      "source": [
        "# II. Iterator"
      ],
      "metadata": {
        "id": "dIJyUiNBFG8G"
      }
    },
    {
      "cell_type": "markdown",
      "source": [
        "11. (4б). Визначте рядок(str) з 4ма різними за значенням символами. Створіть ітератор на основі цього рядка. Викличте 5 разів функцію next на ітераторі, 4ри перших з них огорніть у ф-цію print()."
      ],
      "metadata": {
        "id": "13vsm0NyKIzL"
      }
    },
    {
      "cell_type": "code",
      "source": [
        "my_string = \"a4$i\"\n",
        "\n",
        "iterator = iter(my_string)\n",
        "\n",
        "print(next(iterator))\n",
        "print(next(iterator))\n",
        "print(next(iterator))\n",
        "print(next(iterator))\n",
        "# next(iterator) -> will return StopIteration"
      ],
      "metadata": {
        "id": "81ntabAkKuz-",
        "colab": {
          "base_uri": "https://localhost:8080/"
        },
        "outputId": "831bc56b-9f28-49d1-ca38-7dc04f27dc79"
      },
      "execution_count": 89,
      "outputs": [
        {
          "output_type": "stream",
          "name": "stdout",
          "text": [
            "a\n",
            "4\n",
            "$\n",
            "i\n"
          ]
        }
      ]
    },
    {
      "cell_type": "markdown",
      "source": [
        "А що якщо викликати цю ж функцію на рядку?"
      ],
      "metadata": {
        "id": "aekWHGXOLRsO"
      }
    },
    {
      "cell_type": "code",
      "source": [
        "print(next(\"a4$i\"))  # TypeError: 'str' object is not an iterator\n",
        "print(next(my_string))\n",
        "print(next(my_string))\n",
        "print(next(my_string))\n",
        "next(my_string)"
      ],
      "metadata": {
        "id": "mxATGsErLV1i",
        "colab": {
          "base_uri": "https://localhost:8080/",
          "height": 211
        },
        "outputId": "824cb099-6ef6-4cdc-b1e7-f124ec55ef98"
      },
      "execution_count": 90,
      "outputs": [
        {
          "output_type": "error",
          "ename": "TypeError",
          "evalue": "'str' object is not an iterator",
          "traceback": [
            "\u001b[0;31m---------------------------------------------------------------------------\u001b[0m",
            "\u001b[0;31mTypeError\u001b[0m                                 Traceback (most recent call last)",
            "\u001b[0;32m<ipython-input-90-5c76eb67f53d>\u001b[0m in \u001b[0;36m<cell line: 0>\u001b[0;34m()\u001b[0m\n\u001b[0;32m----> 1\u001b[0;31m \u001b[0mprint\u001b[0m\u001b[0;34m(\u001b[0m\u001b[0mnext\u001b[0m\u001b[0;34m(\u001b[0m\u001b[0;34m\"a4$i\"\u001b[0m\u001b[0;34m)\u001b[0m\u001b[0;34m)\u001b[0m  \u001b[0;31m# TypeError: 'str' object is not an iterator\u001b[0m\u001b[0;34m\u001b[0m\u001b[0;34m\u001b[0m\u001b[0m\n\u001b[0m\u001b[1;32m      2\u001b[0m \u001b[0mprint\u001b[0m\u001b[0;34m(\u001b[0m\u001b[0mnext\u001b[0m\u001b[0;34m(\u001b[0m\u001b[0mmy_string\u001b[0m\u001b[0;34m)\u001b[0m\u001b[0;34m)\u001b[0m\u001b[0;34m\u001b[0m\u001b[0;34m\u001b[0m\u001b[0m\n\u001b[1;32m      3\u001b[0m \u001b[0mprint\u001b[0m\u001b[0;34m(\u001b[0m\u001b[0mnext\u001b[0m\u001b[0;34m(\u001b[0m\u001b[0mmy_string\u001b[0m\u001b[0;34m)\u001b[0m\u001b[0;34m)\u001b[0m\u001b[0;34m\u001b[0m\u001b[0;34m\u001b[0m\u001b[0m\n\u001b[1;32m      4\u001b[0m \u001b[0mprint\u001b[0m\u001b[0;34m(\u001b[0m\u001b[0mnext\u001b[0m\u001b[0;34m(\u001b[0m\u001b[0mmy_string\u001b[0m\u001b[0;34m)\u001b[0m\u001b[0;34m)\u001b[0m\u001b[0;34m\u001b[0m\u001b[0;34m\u001b[0m\u001b[0m\n\u001b[1;32m      5\u001b[0m \u001b[0mnext\u001b[0m\u001b[0;34m(\u001b[0m\u001b[0mmy_string\u001b[0m\u001b[0;34m)\u001b[0m\u001b[0;34m\u001b[0m\u001b[0;34m\u001b[0m\u001b[0m\n",
            "\u001b[0;31mTypeError\u001b[0m: 'str' object is not an iterator"
          ]
        }
      ]
    },
    {
      "cell_type": "markdown",
      "source": [
        " 12. (5б). Опишіть своїми словами в одному реченні, як ви розумієте різницю між ітерабельними обʼєктами та ітераторами (можна на прикладі)."
      ],
      "metadata": {
        "id": "XwtMEopwJ4pH"
      }
    },
    {
      "cell_type": "markdown",
      "source": [
        "Ітерабельний об'єкт — це будь-який об'єкт, який можна перебирати (наприклад, список чи стрінга), тоді як ітератор — це об'єкт, який має методи для послідовного доступу до елементів цього об'єкта. В першому прикладі, рядок \"a4..\" є ітерабельним об'єктом, а за його ітератором \"iter(my_string)\", можна отримувати символи один за одним за допомогою функції next(). Але неможна в цю функцію покласти безпосередньо стрінгу \"next(\"a4..\")\""
      ],
      "metadata": {
        "id": "-sHrODc3KFn8"
      }
    },
    {
      "cell_type": "markdown",
      "source": [
        "13. (11б). Створіть клас, що має визначений Iterator Protocol та при кожному виклику next повертає назву дня тижня, поки вони не вичерпаються. Зверніть увагу, що порядок має значення."
      ],
      "metadata": {
        "id": "E9qJWmNbK8Gl"
      }
    },
    {
      "cell_type": "code",
      "source": [
        "class WeekdaysIterator:\n",
        "    def __init__(self):\n",
        "        self.days_of_week = [\"Monday\", \"Tuesday\", \"Wednesday\", \"Thursday\", \"Friday\", \"Saturday\", \"Sunday\"]\n",
        "        self.start_index = 0\n",
        "\n",
        "    def __iter__(self):\n",
        "        return self\n",
        "\n",
        "    def __next__(self):\n",
        "        if self.start_index < len(self.days_of_week):\n",
        "            day = self.days_of_week[self.start_index]\n",
        "            self.start_index += 1\n",
        "            return day\n",
        "        else:\n",
        "            raise StopIteration\n",
        "\n",
        "weekday1 = WeekdaysIterator()\n",
        "\n",
        "iterator = iter(weekday1)\n",
        "print(next(iterator))\n",
        "print(next(iterator))\n",
        "print(next(iterator))\n",
        "print(next(iterator))\n",
        "print(next(iterator))\n",
        "print(next(iterator))\n",
        "print(next(iterator))\n",
        "# print(next(iterator))  # StopIteration"
      ],
      "metadata": {
        "id": "cqx-g_RsLo6I",
        "colab": {
          "base_uri": "https://localhost:8080/"
        },
        "outputId": "797ade9b-e47e-4ecc-8196-648fbb3d7f81"
      },
      "execution_count": 97,
      "outputs": [
        {
          "output_type": "stream",
          "name": "stdout",
          "text": [
            "Monday\n",
            "Tuesday\n",
            "Wednesday\n",
            "Thursday\n",
            "Friday\n",
            "Saturday\n",
            "Sunday\n"
          ]
        }
      ]
    },
    {
      "cell_type": "markdown",
      "source": [
        "# Вітаю! Ви велика(ий) молодець, що впоралась(вся). Похваліть себе та побалуйте чимось приємним. Я Вами пишаюся."
      ],
      "metadata": {
        "id": "Z3E3S_s1Fv7-"
      }
    }
  ]
}